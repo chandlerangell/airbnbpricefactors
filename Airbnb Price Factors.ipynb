{
 "cells": [
  {
   "cell_type": "markdown",
   "metadata": {},
   "source": [
    "# Factors that Impact Airbnb Listing Prices\n",
    "\n",
    "## Introduction: \n",
    "This project uses data from Airbnb listings in Boston between September 2016 and September 2017 to determine which factors have the greatest impact on listing price.\n",
    "\n",
    "Questions to be answered:\n",
    "1. Which neighborhood has the highest average listing price?\n",
    "2. Which variables have the strongest relationship with listing price?\n",
    "3. Evaluate the effectiveness of regression for predicting listing price.\n",
    "\n",
    "Data Source: https://www.kaggle.com/airbnb/boston"
   ]
  },
  {
   "cell_type": "markdown",
   "metadata": {},
   "source": [
    "## Step 1: Business Understanding\n",
    "\n",
    "Airbnb is an online platform for connecting hosts and guests for accommodation and travel experiences.  Hosts advertise space to rent and set a price while guests can browse through these listings and select a stay."
   ]
  },
  {
   "cell_type": "markdown",
   "metadata": {},
   "source": [
    "## Step 2: Data Understanding\n",
    "To better understand the data in this set, the first few rows of the data are manually reviewed and a judgement call is made to select columns that should be used in this analysis.  Columns are selected based on their hypothesized impact on listing price; these columns will be further analyzed with respect to price."
   ]
  },
  {
   "cell_type": "code",
   "execution_count": 1,
   "metadata": {},
   "outputs": [],
   "source": [
    "import numpy as np\n",
    "import pandas as pd\n",
    "import matplotlib.pyplot as plt\n",
    "from sklearn.linear_model import LinearRegression\n",
    "from sklearn.model_selection import train_test_split\n",
    "from sklearn.metrics import r2_score, mean_squared_error\n",
    "import seaborn as sns\n",
    "%matplotlib inline"
   ]
  },
  {
   "cell_type": "code",
   "execution_count": 2,
   "metadata": {},
   "outputs": [
    {
     "data": {
      "text/html": [
       "<div>\n",
       "<style scoped>\n",
       "    .dataframe tbody tr th:only-of-type {\n",
       "        vertical-align: middle;\n",
       "    }\n",
       "\n",
       "    .dataframe tbody tr th {\n",
       "        vertical-align: top;\n",
       "    }\n",
       "\n",
       "    .dataframe thead th {\n",
       "        text-align: right;\n",
       "    }\n",
       "</style>\n",
       "<table border=\"1\" class=\"dataframe\">\n",
       "  <thead>\n",
       "    <tr style=\"text-align: right;\">\n",
       "      <th></th>\n",
       "      <th>id</th>\n",
       "      <th>listing_url</th>\n",
       "      <th>scrape_id</th>\n",
       "      <th>last_scraped</th>\n",
       "      <th>name</th>\n",
       "      <th>summary</th>\n",
       "      <th>space</th>\n",
       "      <th>description</th>\n",
       "      <th>experiences_offered</th>\n",
       "      <th>neighborhood_overview</th>\n",
       "      <th>...</th>\n",
       "      <th>review_scores_value</th>\n",
       "      <th>requires_license</th>\n",
       "      <th>license</th>\n",
       "      <th>jurisdiction_names</th>\n",
       "      <th>instant_bookable</th>\n",
       "      <th>cancellation_policy</th>\n",
       "      <th>require_guest_profile_picture</th>\n",
       "      <th>require_guest_phone_verification</th>\n",
       "      <th>calculated_host_listings_count</th>\n",
       "      <th>reviews_per_month</th>\n",
       "    </tr>\n",
       "  </thead>\n",
       "  <tbody>\n",
       "    <tr>\n",
       "      <td>0</td>\n",
       "      <td>12147973</td>\n",
       "      <td>https://www.airbnb.com/rooms/12147973</td>\n",
       "      <td>20160906204935</td>\n",
       "      <td>2016-09-07</td>\n",
       "      <td>Sunny Bungalow in the City</td>\n",
       "      <td>Cozy, sunny, family home.  Master bedroom high...</td>\n",
       "      <td>The house has an open and cozy feel at the sam...</td>\n",
       "      <td>Cozy, sunny, family home.  Master bedroom high...</td>\n",
       "      <td>none</td>\n",
       "      <td>Roslindale is quiet, convenient and friendly. ...</td>\n",
       "      <td>...</td>\n",
       "      <td>NaN</td>\n",
       "      <td>f</td>\n",
       "      <td>NaN</td>\n",
       "      <td>NaN</td>\n",
       "      <td>f</td>\n",
       "      <td>moderate</td>\n",
       "      <td>f</td>\n",
       "      <td>f</td>\n",
       "      <td>1</td>\n",
       "      <td>NaN</td>\n",
       "    </tr>\n",
       "    <tr>\n",
       "      <td>1</td>\n",
       "      <td>3075044</td>\n",
       "      <td>https://www.airbnb.com/rooms/3075044</td>\n",
       "      <td>20160906204935</td>\n",
       "      <td>2016-09-07</td>\n",
       "      <td>Charming room in pet friendly apt</td>\n",
       "      <td>Charming and quiet room in a second floor 1910...</td>\n",
       "      <td>Small but cozy and quite room with a full size...</td>\n",
       "      <td>Charming and quiet room in a second floor 1910...</td>\n",
       "      <td>none</td>\n",
       "      <td>The room is in Roslindale, a diverse and prima...</td>\n",
       "      <td>...</td>\n",
       "      <td>9.0</td>\n",
       "      <td>f</td>\n",
       "      <td>NaN</td>\n",
       "      <td>NaN</td>\n",
       "      <td>t</td>\n",
       "      <td>moderate</td>\n",
       "      <td>f</td>\n",
       "      <td>f</td>\n",
       "      <td>1</td>\n",
       "      <td>1.30</td>\n",
       "    </tr>\n",
       "    <tr>\n",
       "      <td>2</td>\n",
       "      <td>6976</td>\n",
       "      <td>https://www.airbnb.com/rooms/6976</td>\n",
       "      <td>20160906204935</td>\n",
       "      <td>2016-09-07</td>\n",
       "      <td>Mexican Folk Art Haven in Boston</td>\n",
       "      <td>Come stay with a friendly, middle-aged guy in ...</td>\n",
       "      <td>Come stay with a friendly, middle-aged guy in ...</td>\n",
       "      <td>Come stay with a friendly, middle-aged guy in ...</td>\n",
       "      <td>none</td>\n",
       "      <td>The LOCATION: Roslindale is a safe and diverse...</td>\n",
       "      <td>...</td>\n",
       "      <td>10.0</td>\n",
       "      <td>f</td>\n",
       "      <td>NaN</td>\n",
       "      <td>NaN</td>\n",
       "      <td>f</td>\n",
       "      <td>moderate</td>\n",
       "      <td>t</td>\n",
       "      <td>f</td>\n",
       "      <td>1</td>\n",
       "      <td>0.47</td>\n",
       "    </tr>\n",
       "    <tr>\n",
       "      <td>3</td>\n",
       "      <td>1436513</td>\n",
       "      <td>https://www.airbnb.com/rooms/1436513</td>\n",
       "      <td>20160906204935</td>\n",
       "      <td>2016-09-07</td>\n",
       "      <td>Spacious Sunny Bedroom Suite in Historic Home</td>\n",
       "      <td>Come experience the comforts of home away from...</td>\n",
       "      <td>Most places you find in Boston are small howev...</td>\n",
       "      <td>Come experience the comforts of home away from...</td>\n",
       "      <td>none</td>\n",
       "      <td>Roslindale is a lovely little neighborhood loc...</td>\n",
       "      <td>...</td>\n",
       "      <td>10.0</td>\n",
       "      <td>f</td>\n",
       "      <td>NaN</td>\n",
       "      <td>NaN</td>\n",
       "      <td>f</td>\n",
       "      <td>moderate</td>\n",
       "      <td>f</td>\n",
       "      <td>f</td>\n",
       "      <td>1</td>\n",
       "      <td>1.00</td>\n",
       "    </tr>\n",
       "    <tr>\n",
       "      <td>4</td>\n",
       "      <td>7651065</td>\n",
       "      <td>https://www.airbnb.com/rooms/7651065</td>\n",
       "      <td>20160906204935</td>\n",
       "      <td>2016-09-07</td>\n",
       "      <td>Come Home to Boston</td>\n",
       "      <td>My comfy, clean and relaxing home is one block...</td>\n",
       "      <td>Clean, attractive, private room, one block fro...</td>\n",
       "      <td>My comfy, clean and relaxing home is one block...</td>\n",
       "      <td>none</td>\n",
       "      <td>I love the proximity to downtown, the neighbor...</td>\n",
       "      <td>...</td>\n",
       "      <td>10.0</td>\n",
       "      <td>f</td>\n",
       "      <td>NaN</td>\n",
       "      <td>NaN</td>\n",
       "      <td>f</td>\n",
       "      <td>flexible</td>\n",
       "      <td>f</td>\n",
       "      <td>f</td>\n",
       "      <td>1</td>\n",
       "      <td>2.25</td>\n",
       "    </tr>\n",
       "  </tbody>\n",
       "</table>\n",
       "<p>5 rows × 95 columns</p>\n",
       "</div>"
      ],
      "text/plain": [
       "         id                            listing_url       scrape_id  \\\n",
       "0  12147973  https://www.airbnb.com/rooms/12147973  20160906204935   \n",
       "1   3075044   https://www.airbnb.com/rooms/3075044  20160906204935   \n",
       "2      6976      https://www.airbnb.com/rooms/6976  20160906204935   \n",
       "3   1436513   https://www.airbnb.com/rooms/1436513  20160906204935   \n",
       "4   7651065   https://www.airbnb.com/rooms/7651065  20160906204935   \n",
       "\n",
       "  last_scraped                                           name  \\\n",
       "0   2016-09-07                     Sunny Bungalow in the City   \n",
       "1   2016-09-07              Charming room in pet friendly apt   \n",
       "2   2016-09-07               Mexican Folk Art Haven in Boston   \n",
       "3   2016-09-07  Spacious Sunny Bedroom Suite in Historic Home   \n",
       "4   2016-09-07                            Come Home to Boston   \n",
       "\n",
       "                                             summary  \\\n",
       "0  Cozy, sunny, family home.  Master bedroom high...   \n",
       "1  Charming and quiet room in a second floor 1910...   \n",
       "2  Come stay with a friendly, middle-aged guy in ...   \n",
       "3  Come experience the comforts of home away from...   \n",
       "4  My comfy, clean and relaxing home is one block...   \n",
       "\n",
       "                                               space  \\\n",
       "0  The house has an open and cozy feel at the sam...   \n",
       "1  Small but cozy and quite room with a full size...   \n",
       "2  Come stay with a friendly, middle-aged guy in ...   \n",
       "3  Most places you find in Boston are small howev...   \n",
       "4  Clean, attractive, private room, one block fro...   \n",
       "\n",
       "                                         description experiences_offered  \\\n",
       "0  Cozy, sunny, family home.  Master bedroom high...                none   \n",
       "1  Charming and quiet room in a second floor 1910...                none   \n",
       "2  Come stay with a friendly, middle-aged guy in ...                none   \n",
       "3  Come experience the comforts of home away from...                none   \n",
       "4  My comfy, clean and relaxing home is one block...                none   \n",
       "\n",
       "                               neighborhood_overview  ... review_scores_value  \\\n",
       "0  Roslindale is quiet, convenient and friendly. ...  ...                 NaN   \n",
       "1  The room is in Roslindale, a diverse and prima...  ...                 9.0   \n",
       "2  The LOCATION: Roslindale is a safe and diverse...  ...                10.0   \n",
       "3  Roslindale is a lovely little neighborhood loc...  ...                10.0   \n",
       "4  I love the proximity to downtown, the neighbor...  ...                10.0   \n",
       "\n",
       "  requires_license license jurisdiction_names instant_bookable  \\\n",
       "0                f     NaN                NaN                f   \n",
       "1                f     NaN                NaN                t   \n",
       "2                f     NaN                NaN                f   \n",
       "3                f     NaN                NaN                f   \n",
       "4                f     NaN                NaN                f   \n",
       "\n",
       "  cancellation_policy require_guest_profile_picture  \\\n",
       "0            moderate                             f   \n",
       "1            moderate                             f   \n",
       "2            moderate                             t   \n",
       "3            moderate                             f   \n",
       "4            flexible                             f   \n",
       "\n",
       "  require_guest_phone_verification calculated_host_listings_count  \\\n",
       "0                                f                              1   \n",
       "1                                f                              1   \n",
       "2                                f                              1   \n",
       "3                                f                              1   \n",
       "4                                f                              1   \n",
       "\n",
       "   reviews_per_month  \n",
       "0                NaN  \n",
       "1               1.30  \n",
       "2               0.47  \n",
       "3               1.00  \n",
       "4               2.25  \n",
       "\n",
       "[5 rows x 95 columns]"
      ]
     },
     "execution_count": 2,
     "metadata": {},
     "output_type": "execute_result"
    }
   ],
   "source": [
    "df = pd.read_csv('./boston/listings.csv')\n",
    "df.head()"
   ]
  },
  {
   "cell_type": "markdown",
   "metadata": {},
   "source": [
    "From reviewing these first few rows, this analysis will focus on the following columns.  \n",
    "\n",
    "- price:                    Dependent variable in the analysis.\n",
    "- summary:                  Does the length of this field (total # of characters) have a relationship with price?\n",
    "- space:                    Does the length of this field (total # of characters) have a relationship with price?\n",
    "- description:              Does the length of this field (total # of characters) have a relationship with price?\n",
    "- neighborhood_overview:    Does the length of this field (total # of characters) have a relationship with price?\n",
    "- host_since:               Does the duration of time that the host has been on Airbnb have an impact on the price?\n",
    "- property_type:            Does the property type have a relationship with price?\n",
    "- accommodates:             Does the number of people the listing accommodates impact price?\n",
    "- bathrooms:                Does the number of bathrooms impact listing price?\n",
    "- bedrooms:                 Does the number of bedrooms impact listing price?\n",
    "- beds:                     Does the number of beds impact listing price?\n",
    "- bed_type:                 Does the type of bed offered affect price?\n",
    "- minimum_nights:           Does the minimum number of nights impact price?\n",
    "- number_of_reviews:        Does the total number of reviews of a place impact price?\n",
    "- review_scores_rating:     Does review score impact price?\n",
    "- cancellation_policy:      Does cancellation policy impact price?\n",
    "- reviews_per_month:        Does the number of reviews per month impact price?\n",
    "- neighbourhood_cleansed:   Does the nieghborhood influence price?\n",
    "- calendar_last_scraped:    This column will be used to determine the time difference with the host_since column."
   ]
  },
  {
   "cell_type": "markdown",
   "metadata": {},
   "source": [
    "## Step 3: Data Preparation\n",
    "Substeps to be taken:\n",
    "1. Drop columns that won't be used in this analysis.\n",
    "2. Evaluate the data types and determine what to do with nulls in the data\n",
    "3. Convert all quantities to numeric values (i.e., dummy variables or character lengths of the descriptions)"
   ]
  },
  {
   "cell_type": "code",
   "execution_count": 3,
   "metadata": {},
   "outputs": [],
   "source": [
    "columnsOfInterest = ['price', 'summary', 'space', 'description', 'neighborhood_overview', 'host_since', 'property_type', \n",
    "                     'accommodates', 'bathrooms', 'bedrooms', 'beds', 'bed_type', 'minimum_nights', \n",
    "                     'number_of_reviews', 'review_scores_rating', 'cancellation_policy', 'reviews_per_month', \n",
    "                     'neighbourhood_cleansed', 'calendar_last_scraped']\n",
    "df = df[columnsOfInterest]"
   ]
  },
  {
   "cell_type": "code",
   "execution_count": 4,
   "metadata": {},
   "outputs": [
    {
     "name": "stdout",
     "output_type": "stream",
     "text": [
      "Resulting Rows: 3585, Columns: 19\n"
     ]
    }
   ],
   "source": [
    "print('Resulting Rows: {}, Columns: {}'.format(df.shape[0], df.shape[1]))"
   ]
  },
  {
   "cell_type": "markdown",
   "metadata": {},
   "source": [
    "Determine all data types begin converting object data types to numerics."
   ]
  },
  {
   "cell_type": "code",
   "execution_count": 5,
   "metadata": {},
   "outputs": [
    {
     "data": {
      "text/html": [
       "<div>\n",
       "<style scoped>\n",
       "    .dataframe tbody tr th:only-of-type {\n",
       "        vertical-align: middle;\n",
       "    }\n",
       "\n",
       "    .dataframe tbody tr th {\n",
       "        vertical-align: top;\n",
       "    }\n",
       "\n",
       "    .dataframe thead th {\n",
       "        text-align: right;\n",
       "    }\n",
       "</style>\n",
       "<table border=\"1\" class=\"dataframe\">\n",
       "  <thead>\n",
       "    <tr style=\"text-align: right;\">\n",
       "      <th></th>\n",
       "      <th>dtype</th>\n",
       "      <th>nulls</th>\n",
       "    </tr>\n",
       "  </thead>\n",
       "  <tbody>\n",
       "    <tr>\n",
       "      <td>price</td>\n",
       "      <td>object</td>\n",
       "      <td>0</td>\n",
       "    </tr>\n",
       "    <tr>\n",
       "      <td>summary</td>\n",
       "      <td>object</td>\n",
       "      <td>143</td>\n",
       "    </tr>\n",
       "    <tr>\n",
       "      <td>space</td>\n",
       "      <td>object</td>\n",
       "      <td>1057</td>\n",
       "    </tr>\n",
       "    <tr>\n",
       "      <td>description</td>\n",
       "      <td>object</td>\n",
       "      <td>0</td>\n",
       "    </tr>\n",
       "    <tr>\n",
       "      <td>neighborhood_overview</td>\n",
       "      <td>object</td>\n",
       "      <td>1415</td>\n",
       "    </tr>\n",
       "    <tr>\n",
       "      <td>host_since</td>\n",
       "      <td>object</td>\n",
       "      <td>0</td>\n",
       "    </tr>\n",
       "    <tr>\n",
       "      <td>property_type</td>\n",
       "      <td>object</td>\n",
       "      <td>3</td>\n",
       "    </tr>\n",
       "    <tr>\n",
       "      <td>accommodates</td>\n",
       "      <td>int64</td>\n",
       "      <td>0</td>\n",
       "    </tr>\n",
       "    <tr>\n",
       "      <td>bathrooms</td>\n",
       "      <td>float64</td>\n",
       "      <td>14</td>\n",
       "    </tr>\n",
       "    <tr>\n",
       "      <td>bedrooms</td>\n",
       "      <td>float64</td>\n",
       "      <td>10</td>\n",
       "    </tr>\n",
       "    <tr>\n",
       "      <td>beds</td>\n",
       "      <td>float64</td>\n",
       "      <td>9</td>\n",
       "    </tr>\n",
       "    <tr>\n",
       "      <td>bed_type</td>\n",
       "      <td>object</td>\n",
       "      <td>0</td>\n",
       "    </tr>\n",
       "    <tr>\n",
       "      <td>minimum_nights</td>\n",
       "      <td>int64</td>\n",
       "      <td>0</td>\n",
       "    </tr>\n",
       "    <tr>\n",
       "      <td>number_of_reviews</td>\n",
       "      <td>int64</td>\n",
       "      <td>0</td>\n",
       "    </tr>\n",
       "    <tr>\n",
       "      <td>review_scores_rating</td>\n",
       "      <td>float64</td>\n",
       "      <td>813</td>\n",
       "    </tr>\n",
       "    <tr>\n",
       "      <td>cancellation_policy</td>\n",
       "      <td>object</td>\n",
       "      <td>0</td>\n",
       "    </tr>\n",
       "    <tr>\n",
       "      <td>reviews_per_month</td>\n",
       "      <td>float64</td>\n",
       "      <td>756</td>\n",
       "    </tr>\n",
       "    <tr>\n",
       "      <td>neighbourhood_cleansed</td>\n",
       "      <td>object</td>\n",
       "      <td>0</td>\n",
       "    </tr>\n",
       "    <tr>\n",
       "      <td>calendar_last_scraped</td>\n",
       "      <td>object</td>\n",
       "      <td>0</td>\n",
       "    </tr>\n",
       "  </tbody>\n",
       "</table>\n",
       "</div>"
      ],
      "text/plain": [
       "                          dtype  nulls\n",
       "price                    object      0\n",
       "summary                  object    143\n",
       "space                    object   1057\n",
       "description              object      0\n",
       "neighborhood_overview    object   1415\n",
       "host_since               object      0\n",
       "property_type            object      3\n",
       "accommodates              int64      0\n",
       "bathrooms               float64     14\n",
       "bedrooms                float64     10\n",
       "beds                    float64      9\n",
       "bed_type                 object      0\n",
       "minimum_nights            int64      0\n",
       "number_of_reviews         int64      0\n",
       "review_scores_rating    float64    813\n",
       "cancellation_policy      object      0\n",
       "reviews_per_month       float64    756\n",
       "neighbourhood_cleansed   object      0\n",
       "calendar_last_scraped    object      0"
      ]
     },
     "execution_count": 5,
     "metadata": {},
     "output_type": "execute_result"
    }
   ],
   "source": [
    "dftn = pd.concat([df.dtypes, df.isnull().sum()], axis=1)\n",
    "dftn.columns = ['dtype', 'nulls']\n",
    "dftn"
   ]
  },
  {
   "cell_type": "code",
   "execution_count": 6,
   "metadata": {},
   "outputs": [
    {
     "data": {
      "text/plain": [
       "0       2016-09-06\n",
       "1       2016-09-06\n",
       "2       2016-09-06\n",
       "3       2016-09-06\n",
       "4       2016-09-06\n",
       "           ...    \n",
       "3580    2016-09-06\n",
       "3581    2016-09-06\n",
       "3582    2016-09-06\n",
       "3583    2016-09-06\n",
       "3584    2016-09-06\n",
       "Name: calendar_last_scraped, Length: 3585, dtype: object"
      ]
     },
     "execution_count": 6,
     "metadata": {},
     "output_type": "execute_result"
    }
   ],
   "source": [
    "df['calendar_last_scraped']"
   ]
  },
  {
   "cell_type": "markdown",
   "metadata": {},
   "source": [
    "### a. Price Column\n",
    "Convert this column from a string to float and get rid of special characters like '$' and ','"
   ]
  },
  {
   "cell_type": "code",
   "execution_count": 7,
   "metadata": {},
   "outputs": [],
   "source": [
    "df['price'] = df['price'].replace({'\\$':'', ',':''}, regex=True)\n",
    "df['price'] = df['price'].astype(float)"
   ]
  },
  {
   "cell_type": "code",
   "execution_count": 8,
   "metadata": {},
   "outputs": [
    {
     "data": {
      "text/plain": [
       "dtype('float64')"
      ]
     },
     "execution_count": 8,
     "metadata": {},
     "output_type": "execute_result"
    }
   ],
   "source": [
    "df['price'].dtype"
   ]
  },
  {
   "cell_type": "markdown",
   "metadata": {},
   "source": [
    "### b. Summary, Space, Description, Neighborhood Overview Columns\n",
    "Convert these columns from strings to lengths of string characters (integer values).\n",
    "Treat NaNs as an empty field (0 length)."
   ]
  },
  {
   "cell_type": "code",
   "execution_count": 9,
   "metadata": {},
   "outputs": [],
   "source": [
    "descriptiveCols = ['summary', 'space', 'description', 'neighborhood_overview']"
   ]
  },
  {
   "cell_type": "code",
   "execution_count": 10,
   "metadata": {},
   "outputs": [
    {
     "name": "stdout",
     "output_type": "stream",
     "text": [
      "NaNs in each column:\n"
     ]
    },
    {
     "data": {
      "text/plain": [
       "summary                   143\n",
       "space                    1057\n",
       "description                 0\n",
       "neighborhood_overview    1415\n",
       "dtype: int64"
      ]
     },
     "execution_count": 10,
     "metadata": {},
     "output_type": "execute_result"
    }
   ],
   "source": [
    "print('NaNs in each column:')\n",
    "df[descriptiveCols].isnull().sum()"
   ]
  },
  {
   "cell_type": "code",
   "execution_count": 11,
   "metadata": {},
   "outputs": [],
   "source": [
    "for i in descriptiveCols:\n",
    "    df[i] = df[i].fillna('0')\n",
    "    df[i] = df[i].str.len()"
   ]
  },
  {
   "cell_type": "code",
   "execution_count": 12,
   "metadata": {},
   "outputs": [
    {
     "name": "stdout",
     "output_type": "stream",
     "text": [
      "NaNs in each column:\n"
     ]
    },
    {
     "data": {
      "text/plain": [
       "summary                  0\n",
       "space                    0\n",
       "description              0\n",
       "neighborhood_overview    0\n",
       "dtype: int64"
      ]
     },
     "execution_count": 12,
     "metadata": {},
     "output_type": "execute_result"
    }
   ],
   "source": [
    "print('NaNs in each column:')\n",
    "df[descriptiveCols].isnull().sum()"
   ]
  },
  {
   "cell_type": "markdown",
   "metadata": {},
   "source": [
    "### c. Host Since Column\n",
    "Convert this column to date format and calculate time difference from the date the data was taken (calendar_last_scraped column).  Drop the calendar_last_scraped column."
   ]
  },
  {
   "cell_type": "code",
   "execution_count": 13,
   "metadata": {},
   "outputs": [],
   "source": [
    "df['host_since'] = pd.to_datetime(df['host_since'])\n",
    "df['host_since'] = pd.to_datetime(df['calendar_last_scraped'][0]) - df['host_since']\n",
    "df['host_since'] = df['host_since'].dt.days\n",
    "df.drop(['calendar_last_scraped'], axis=1, inplace=True)\n",
    "# df['host_since'].head()"
   ]
  },
  {
   "cell_type": "markdown",
   "metadata": {},
   "source": [
    "### d. Property Type Column\n",
    "Create dummy variables for the property types column. Combine NaNs into 'Other'."
   ]
  },
  {
   "cell_type": "code",
   "execution_count": 14,
   "metadata": {},
   "outputs": [
    {
     "name": "stdout",
     "output_type": "stream",
     "text": [
      "Listings with each property type:\n"
     ]
    },
    {
     "data": {
      "text/plain": [
       "Apartment          2612\n",
       "House               562\n",
       "Condominium         231\n",
       "Townhouse            54\n",
       "Bed & Breakfast      41\n",
       "Loft                 39\n",
       "Other                17\n",
       "Boat                 12\n",
       "Villa                 6\n",
       "Entire Floor          4\n",
       "Dorm                  2\n",
       "Guesthouse            1\n",
       "Camper/RV             1\n",
       "Name: property_type, dtype: int64"
      ]
     },
     "execution_count": 14,
     "metadata": {},
     "output_type": "execute_result"
    }
   ],
   "source": [
    "property_types = list(df['property_type'].unique())\n",
    "property_types\n",
    "print('Listings with each property type:')\n",
    "df['property_type'].value_counts()"
   ]
  },
  {
   "cell_type": "markdown",
   "metadata": {},
   "source": [
    "With the property types that have a low number of listings associated with them (i.e., Townhouse through Camper/RV), combine them into 'Other'."
   ]
  },
  {
   "cell_type": "code",
   "execution_count": 15,
   "metadata": {},
   "outputs": [],
   "source": [
    "property_types = ['Apartment', 'House', 'Condominium']"
   ]
  },
  {
   "cell_type": "code",
   "execution_count": 16,
   "metadata": {},
   "outputs": [
    {
     "data": {
      "text/plain": [
       "3"
      ]
     },
     "execution_count": 16,
     "metadata": {},
     "output_type": "execute_result"
    }
   ],
   "source": [
    "df['property_type'].isnull().sum()"
   ]
  },
  {
   "cell_type": "code",
   "execution_count": 17,
   "metadata": {},
   "outputs": [],
   "source": [
    "df['property_type'] = df['property_type'].fillna('Other')"
   ]
  },
  {
   "cell_type": "code",
   "execution_count": 18,
   "metadata": {},
   "outputs": [],
   "source": [
    "for (i, value) in df['property_type'].iteritems():\n",
    "    if value not in property_types:\n",
    "        df.loc[i, 'property_type'] = 'Other'"
   ]
  },
  {
   "cell_type": "code",
   "execution_count": 19,
   "metadata": {},
   "outputs": [
    {
     "data": {
      "text/plain": [
       "Apartment      2612\n",
       "House           562\n",
       "Condominium     231\n",
       "Other           180\n",
       "Name: property_type, dtype: int64"
      ]
     },
     "execution_count": 19,
     "metadata": {},
     "output_type": "execute_result"
    }
   ],
   "source": [
    "df['property_type'].value_counts()"
   ]
  },
  {
   "cell_type": "code",
   "execution_count": 20,
   "metadata": {},
   "outputs": [],
   "source": [
    "def create_dummy_df(df, cat_cols, dummy_na):\n",
    "    '''\n",
    "    INPUT:\n",
    "    df - pandas dataframe with categorical variables you want to dummy, choose how to handle NaNs first!\n",
    "    cat_cols - list of strings that are associated with names of the categorical columns\n",
    "    dummy_na - Bool holding whether you want to dummy NA vals of categorical columns or not\n",
    "    \n",
    "    OUTPUT:\n",
    "    df - a new dataframe that has the following characteristics:\n",
    "            1. contains all columns that were not specified as categorical\n",
    "            2. removes all the original columns in cat_cols\n",
    "            3. dummy columns for each of the categorical columns in cat_cols\n",
    "            4. if dummy_na is True - it also contains dummy columns for the NaN values\n",
    "            5. Use a prefix of the column name with an underscore (_) for separating \n",
    "    '''\n",
    "    for col in  cat_cols:\n",
    "        try:\n",
    "            # for each cat add dummy var, drop original column\n",
    "            df = pd.concat([df.drop(col, axis=1), pd.get_dummies(df[col], prefix=col, \n",
    "                                            prefix_sep='_', drop_first=False, dummy_na=dummy_na)], axis=1)\n",
    "                    # drop_first removes the first column, leaves this column as the 0 0 0 value, course sets as True\n",
    "        except:\n",
    "            continue\n",
    "    return df"
   ]
  },
  {
   "cell_type": "code",
   "execution_count": 21,
   "metadata": {},
   "outputs": [],
   "source": [
    "df = create_dummy_df(df, ['property_type'], False)"
   ]
  },
  {
   "cell_type": "code",
   "execution_count": 22,
   "metadata": {},
   "outputs": [
    {
     "name": "stdout",
     "output_type": "stream",
     "text": [
      "Confirm columns were created:\n"
     ]
    },
    {
     "data": {
      "text/plain": [
       "Index(['price', 'summary', 'space', 'description', 'neighborhood_overview',\n",
       "       'host_since', 'accommodates', 'bathrooms', 'bedrooms', 'beds',\n",
       "       'bed_type', 'minimum_nights', 'number_of_reviews',\n",
       "       'review_scores_rating', 'cancellation_policy', 'reviews_per_month',\n",
       "       'neighbourhood_cleansed', 'property_type_Apartment',\n",
       "       'property_type_Condominium', 'property_type_House',\n",
       "       'property_type_Other'],\n",
       "      dtype='object')"
      ]
     },
     "execution_count": 22,
     "metadata": {},
     "output_type": "execute_result"
    }
   ],
   "source": [
    "print('Confirm columns were created:')\n",
    "df.columns"
   ]
  },
  {
   "cell_type": "markdown",
   "metadata": {},
   "source": [
    "### e. Bed Type Column\n",
    "Create dummy variables for this column."
   ]
  },
  {
   "cell_type": "code",
   "execution_count": 23,
   "metadata": {},
   "outputs": [
    {
     "data": {
      "text/plain": [
       "Real Bed         3453\n",
       "Futon              51\n",
       "Airbed             40\n",
       "Pull-out Sofa      31\n",
       "Couch              10\n",
       "Name: bed_type, dtype: int64"
      ]
     },
     "execution_count": 23,
     "metadata": {},
     "output_type": "execute_result"
    }
   ],
   "source": [
    "df['bed_type'].value_counts()"
   ]
  },
  {
   "cell_type": "code",
   "execution_count": 24,
   "metadata": {},
   "outputs": [],
   "source": [
    "df = create_dummy_df(df, ['bed_type'], False)"
   ]
  },
  {
   "cell_type": "code",
   "execution_count": 25,
   "metadata": {},
   "outputs": [
    {
     "name": "stdout",
     "output_type": "stream",
     "text": [
      "Confirm columns were created:\n"
     ]
    },
    {
     "data": {
      "text/plain": [
       "Index(['price', 'summary', 'space', 'description', 'neighborhood_overview',\n",
       "       'host_since', 'accommodates', 'bathrooms', 'bedrooms', 'beds',\n",
       "       'minimum_nights', 'number_of_reviews', 'review_scores_rating',\n",
       "       'cancellation_policy', 'reviews_per_month', 'neighbourhood_cleansed',\n",
       "       'property_type_Apartment', 'property_type_Condominium',\n",
       "       'property_type_House', 'property_type_Other', 'bed_type_Airbed',\n",
       "       'bed_type_Couch', 'bed_type_Futon', 'bed_type_Pull-out Sofa',\n",
       "       'bed_type_Real Bed'],\n",
       "      dtype='object')"
      ]
     },
     "execution_count": 25,
     "metadata": {},
     "output_type": "execute_result"
    }
   ],
   "source": [
    "print('Confirm columns were created:')\n",
    "df.columns"
   ]
  },
  {
   "cell_type": "markdown",
   "metadata": {},
   "source": [
    "### f. Cancellation_Policy Column\n",
    "Create dummy variables for this column."
   ]
  },
  {
   "cell_type": "code",
   "execution_count": 26,
   "metadata": {},
   "outputs": [
    {
     "data": {
      "text/plain": [
       "strict             1582\n",
       "flexible            999\n",
       "moderate            919\n",
       "super_strict_30      85\n",
       "Name: cancellation_policy, dtype: int64"
      ]
     },
     "execution_count": 26,
     "metadata": {},
     "output_type": "execute_result"
    }
   ],
   "source": [
    "df['cancellation_policy'].value_counts()"
   ]
  },
  {
   "cell_type": "code",
   "execution_count": 27,
   "metadata": {},
   "outputs": [],
   "source": [
    "df = create_dummy_df(df, ['cancellation_policy'], False)"
   ]
  },
  {
   "cell_type": "code",
   "execution_count": 28,
   "metadata": {},
   "outputs": [
    {
     "name": "stdout",
     "output_type": "stream",
     "text": [
      "Confirm columns were created:\n"
     ]
    },
    {
     "data": {
      "text/plain": [
       "Index(['price', 'summary', 'space', 'description', 'neighborhood_overview',\n",
       "       'host_since', 'accommodates', 'bathrooms', 'bedrooms', 'beds',\n",
       "       'minimum_nights', 'number_of_reviews', 'review_scores_rating',\n",
       "       'reviews_per_month', 'neighbourhood_cleansed',\n",
       "       'property_type_Apartment', 'property_type_Condominium',\n",
       "       'property_type_House', 'property_type_Other', 'bed_type_Airbed',\n",
       "       'bed_type_Couch', 'bed_type_Futon', 'bed_type_Pull-out Sofa',\n",
       "       'bed_type_Real Bed', 'cancellation_policy_flexible',\n",
       "       'cancellation_policy_moderate', 'cancellation_policy_strict',\n",
       "       'cancellation_policy_super_strict_30'],\n",
       "      dtype='object')"
      ]
     },
     "execution_count": 28,
     "metadata": {},
     "output_type": "execute_result"
    }
   ],
   "source": [
    "print('Confirm columns were created:')\n",
    "df.columns"
   ]
  },
  {
   "cell_type": "markdown",
   "metadata": {},
   "source": [
    "### g. Neighborhood_cleansed\n",
    "Create dummy variables for this column and place into a new data frame (df_neighborhoods)."
   ]
  },
  {
   "cell_type": "code",
   "execution_count": 29,
   "metadata": {},
   "outputs": [
    {
     "name": "stdout",
     "output_type": "stream",
     "text": [
      "Confirm all columns are numeric data types:\n"
     ]
    },
    {
     "data": {
      "text/plain": [
       "(3585, 0)"
      ]
     },
     "execution_count": 29,
     "metadata": {},
     "output_type": "execute_result"
    }
   ],
   "source": [
    "df_neighborhoods = create_dummy_df(df, ['neighbourhood_cleansed'], False)\n",
    "print('Confirm all columns are numeric data types:')\n",
    "df_neighborhoods.select_dtypes(include=['object']).shape"
   ]
  },
  {
   "cell_type": "markdown",
   "metadata": {},
   "source": [
    "## Step 4 Modeling & Evaluation\n",
    "With the data prepared, analyze and model it to answer the guiding questions."
   ]
  },
  {
   "cell_type": "markdown",
   "metadata": {},
   "source": [
    "### Question 1: Which neighborhood has the highest average listing price?\n",
    "Average is typically measured through the mean and median. To answer this, take the average of all prices within each neighborhood.  Provide supporting information such as the standard deviation, minimum price, maximum price, and total number of listings used in the average."
   ]
  },
  {
   "cell_type": "code",
   "execution_count": 30,
   "metadata": {},
   "outputs": [
    {
     "data": {
      "text/html": [
       "<div>\n",
       "<style scoped>\n",
       "    .dataframe tbody tr th:only-of-type {\n",
       "        vertical-align: middle;\n",
       "    }\n",
       "\n",
       "    .dataframe tbody tr th {\n",
       "        vertical-align: top;\n",
       "    }\n",
       "\n",
       "    .dataframe thead th {\n",
       "        text-align: right;\n",
       "    }\n",
       "</style>\n",
       "<table border=\"1\" class=\"dataframe\">\n",
       "  <thead>\n",
       "    <tr style=\"text-align: right;\">\n",
       "      <th></th>\n",
       "      <th>mean</th>\n",
       "      <th>median</th>\n",
       "      <th>s.d.</th>\n",
       "      <th>min</th>\n",
       "      <th>max</th>\n",
       "      <th>count</th>\n",
       "    </tr>\n",
       "    <tr>\n",
       "      <th>neighbourhood_cleansed</th>\n",
       "      <th></th>\n",
       "      <th></th>\n",
       "      <th></th>\n",
       "      <th></th>\n",
       "      <th></th>\n",
       "      <th></th>\n",
       "    </tr>\n",
       "  </thead>\n",
       "  <tbody>\n",
       "    <tr>\n",
       "      <td>Leather District</td>\n",
       "      <td>253.600000</td>\n",
       "      <td>245.0</td>\n",
       "      <td>93.417343</td>\n",
       "      <td>159.0</td>\n",
       "      <td>390.0</td>\n",
       "      <td>5</td>\n",
       "    </tr>\n",
       "    <tr>\n",
       "      <td>South Boston Waterfront</td>\n",
       "      <td>306.060241</td>\n",
       "      <td>245.0</td>\n",
       "      <td>338.001203</td>\n",
       "      <td>115.0</td>\n",
       "      <td>3000.0</td>\n",
       "      <td>83</td>\n",
       "    </tr>\n",
       "    <tr>\n",
       "      <td>Downtown</td>\n",
       "      <td>236.459302</td>\n",
       "      <td>225.0</td>\n",
       "      <td>99.179108</td>\n",
       "      <td>10.0</td>\n",
       "      <td>600.0</td>\n",
       "      <td>172</td>\n",
       "    </tr>\n",
       "    <tr>\n",
       "      <td>Chinatown</td>\n",
       "      <td>232.352113</td>\n",
       "      <td>219.0</td>\n",
       "      <td>87.948053</td>\n",
       "      <td>80.0</td>\n",
       "      <td>399.0</td>\n",
       "      <td>71</td>\n",
       "    </tr>\n",
       "    <tr>\n",
       "      <td>Back Bay</td>\n",
       "      <td>240.950331</td>\n",
       "      <td>209.0</td>\n",
       "      <td>130.481478</td>\n",
       "      <td>40.0</td>\n",
       "      <td>1250.0</td>\n",
       "      <td>302</td>\n",
       "    </tr>\n",
       "    <tr>\n",
       "      <td>Bay Village</td>\n",
       "      <td>266.833333</td>\n",
       "      <td>206.5</td>\n",
       "      <td>148.640701</td>\n",
       "      <td>90.0</td>\n",
       "      <td>500.0</td>\n",
       "      <td>24</td>\n",
       "    </tr>\n",
       "    <tr>\n",
       "      <td>West End</td>\n",
       "      <td>209.591837</td>\n",
       "      <td>199.0</td>\n",
       "      <td>79.530895</td>\n",
       "      <td>60.0</td>\n",
       "      <td>450.0</td>\n",
       "      <td>49</td>\n",
       "    </tr>\n",
       "    <tr>\n",
       "      <td>Beacon Hill</td>\n",
       "      <td>224.443299</td>\n",
       "      <td>195.0</td>\n",
       "      <td>162.333947</td>\n",
       "      <td>75.0</td>\n",
       "      <td>1345.0</td>\n",
       "      <td>194</td>\n",
       "    </tr>\n",
       "    <tr>\n",
       "      <td>Fenway</td>\n",
       "      <td>220.393103</td>\n",
       "      <td>191.0</td>\n",
       "      <td>265.336016</td>\n",
       "      <td>30.0</td>\n",
       "      <td>4000.0</td>\n",
       "      <td>290</td>\n",
       "    </tr>\n",
       "    <tr>\n",
       "      <td>Charlestown</td>\n",
       "      <td>198.045045</td>\n",
       "      <td>180.0</td>\n",
       "      <td>135.660297</td>\n",
       "      <td>39.0</td>\n",
       "      <td>1000.0</td>\n",
       "      <td>111</td>\n",
       "    </tr>\n",
       "    <tr>\n",
       "      <td>South End</td>\n",
       "      <td>204.349693</td>\n",
       "      <td>180.0</td>\n",
       "      <td>119.290546</td>\n",
       "      <td>45.0</td>\n",
       "      <td>1300.0</td>\n",
       "      <td>326</td>\n",
       "    </tr>\n",
       "    <tr>\n",
       "      <td>North End</td>\n",
       "      <td>195.678322</td>\n",
       "      <td>179.0</td>\n",
       "      <td>93.497880</td>\n",
       "      <td>35.0</td>\n",
       "      <td>600.0</td>\n",
       "      <td>143</td>\n",
       "    </tr>\n",
       "    <tr>\n",
       "      <td>South Boston</td>\n",
       "      <td>187.609195</td>\n",
       "      <td>150.0</td>\n",
       "      <td>125.155243</td>\n",
       "      <td>45.0</td>\n",
       "      <td>1000.0</td>\n",
       "      <td>174</td>\n",
       "    </tr>\n",
       "    <tr>\n",
       "      <td>Jamaica Plain</td>\n",
       "      <td>138.478134</td>\n",
       "      <td>100.0</td>\n",
       "      <td>104.015175</td>\n",
       "      <td>22.0</td>\n",
       "      <td>750.0</td>\n",
       "      <td>343</td>\n",
       "    </tr>\n",
       "    <tr>\n",
       "      <td>Roxbury</td>\n",
       "      <td>146.333333</td>\n",
       "      <td>99.0</td>\n",
       "      <td>152.956916</td>\n",
       "      <td>22.0</td>\n",
       "      <td>1400.0</td>\n",
       "      <td>144</td>\n",
       "    </tr>\n",
       "    <tr>\n",
       "      <td>East Boston</td>\n",
       "      <td>119.153333</td>\n",
       "      <td>99.0</td>\n",
       "      <td>66.080969</td>\n",
       "      <td>30.0</td>\n",
       "      <td>359.0</td>\n",
       "      <td>150</td>\n",
       "    </tr>\n",
       "    <tr>\n",
       "      <td>Brighton</td>\n",
       "      <td>118.767568</td>\n",
       "      <td>90.0</td>\n",
       "      <td>98.491254</td>\n",
       "      <td>29.0</td>\n",
       "      <td>999.0</td>\n",
       "      <td>185</td>\n",
       "    </tr>\n",
       "    <tr>\n",
       "      <td>Mission Hill</td>\n",
       "      <td>121.967742</td>\n",
       "      <td>89.5</td>\n",
       "      <td>103.742641</td>\n",
       "      <td>20.0</td>\n",
       "      <td>872.0</td>\n",
       "      <td>124</td>\n",
       "    </tr>\n",
       "    <tr>\n",
       "      <td>Allston</td>\n",
       "      <td>112.307692</td>\n",
       "      <td>85.0</td>\n",
       "      <td>79.980147</td>\n",
       "      <td>11.0</td>\n",
       "      <td>550.0</td>\n",
       "      <td>260</td>\n",
       "    </tr>\n",
       "    <tr>\n",
       "      <td>West Roxbury</td>\n",
       "      <td>107.108696</td>\n",
       "      <td>85.0</td>\n",
       "      <td>67.772570</td>\n",
       "      <td>45.0</td>\n",
       "      <td>349.0</td>\n",
       "      <td>46</td>\n",
       "    </tr>\n",
       "    <tr>\n",
       "      <td>Longwood Medical Area</td>\n",
       "      <td>138.444444</td>\n",
       "      <td>84.0</td>\n",
       "      <td>102.898143</td>\n",
       "      <td>60.0</td>\n",
       "      <td>350.0</td>\n",
       "      <td>9</td>\n",
       "    </tr>\n",
       "    <tr>\n",
       "      <td>Roslindale</td>\n",
       "      <td>98.428571</td>\n",
       "      <td>76.5</td>\n",
       "      <td>54.793449</td>\n",
       "      <td>40.0</td>\n",
       "      <td>285.0</td>\n",
       "      <td>56</td>\n",
       "    </tr>\n",
       "    <tr>\n",
       "      <td>Dorchester</td>\n",
       "      <td>91.639405</td>\n",
       "      <td>72.0</td>\n",
       "      <td>56.984681</td>\n",
       "      <td>25.0</td>\n",
       "      <td>395.0</td>\n",
       "      <td>269</td>\n",
       "    </tr>\n",
       "    <tr>\n",
       "      <td>Mattapan</td>\n",
       "      <td>75.125000</td>\n",
       "      <td>67.0</td>\n",
       "      <td>33.171901</td>\n",
       "      <td>40.0</td>\n",
       "      <td>169.0</td>\n",
       "      <td>24</td>\n",
       "    </tr>\n",
       "    <tr>\n",
       "      <td>Hyde Park</td>\n",
       "      <td>86.548387</td>\n",
       "      <td>58.0</td>\n",
       "      <td>66.468458</td>\n",
       "      <td>31.0</td>\n",
       "      <td>269.0</td>\n",
       "      <td>31</td>\n",
       "    </tr>\n",
       "  </tbody>\n",
       "</table>\n",
       "</div>"
      ],
      "text/plain": [
       "                               mean  median        s.d.    min     max  count\n",
       "neighbourhood_cleansed                                                       \n",
       "Leather District         253.600000   245.0   93.417343  159.0   390.0      5\n",
       "South Boston Waterfront  306.060241   245.0  338.001203  115.0  3000.0     83\n",
       "Downtown                 236.459302   225.0   99.179108   10.0   600.0    172\n",
       "Chinatown                232.352113   219.0   87.948053   80.0   399.0     71\n",
       "Back Bay                 240.950331   209.0  130.481478   40.0  1250.0    302\n",
       "Bay Village              266.833333   206.5  148.640701   90.0   500.0     24\n",
       "West End                 209.591837   199.0   79.530895   60.0   450.0     49\n",
       "Beacon Hill              224.443299   195.0  162.333947   75.0  1345.0    194\n",
       "Fenway                   220.393103   191.0  265.336016   30.0  4000.0    290\n",
       "Charlestown              198.045045   180.0  135.660297   39.0  1000.0    111\n",
       "South End                204.349693   180.0  119.290546   45.0  1300.0    326\n",
       "North End                195.678322   179.0   93.497880   35.0   600.0    143\n",
       "South Boston             187.609195   150.0  125.155243   45.0  1000.0    174\n",
       "Jamaica Plain            138.478134   100.0  104.015175   22.0   750.0    343\n",
       "Roxbury                  146.333333    99.0  152.956916   22.0  1400.0    144\n",
       "East Boston              119.153333    99.0   66.080969   30.0   359.0    150\n",
       "Brighton                 118.767568    90.0   98.491254   29.0   999.0    185\n",
       "Mission Hill             121.967742    89.5  103.742641   20.0   872.0    124\n",
       "Allston                  112.307692    85.0   79.980147   11.0   550.0    260\n",
       "West Roxbury             107.108696    85.0   67.772570   45.0   349.0     46\n",
       "Longwood Medical Area    138.444444    84.0  102.898143   60.0   350.0      9\n",
       "Roslindale                98.428571    76.5   54.793449   40.0   285.0     56\n",
       "Dorchester                91.639405    72.0   56.984681   25.0   395.0    269\n",
       "Mattapan                  75.125000    67.0   33.171901   40.0   169.0     24\n",
       "Hyde Park                 86.548387    58.0   66.468458   31.0   269.0     31"
      ]
     },
     "execution_count": 30,
     "metadata": {},
     "output_type": "execute_result"
    }
   ],
   "source": [
    "df_temp = pd.concat([df.groupby(['neighbourhood_cleansed']).mean()['price'], \n",
    "                 df.groupby(['neighbourhood_cleansed']).median()['price'],\n",
    "                 df.groupby(['neighbourhood_cleansed']).std()['price'],\n",
    "                 df.groupby(['neighbourhood_cleansed']).min()['price'],\n",
    "                 df.groupby(['neighbourhood_cleansed']).max()['price'],\n",
    "                 df.groupby(['neighbourhood_cleansed']).count()['price']], axis=1)\n",
    "df_temp.columns = ['mean', 'median', 's.d.', 'min', 'max', 'count']\n",
    "df_temp.sort_values(by=['median'], ascending=False)"
   ]
  },
  {
   "cell_type": "markdown",
   "metadata": {},
   "source": [
    "From this table, the neighborhoods that command the highest average listing price are the Leather District, South Boston Waterfront, and Downtown.  It is worth noting that the number of listings for Leather District are low compared to those for South Boston Waterfront and Downtown.  Furthermore, the standard deviation of prices for the South Boston Waterfront are the highest for this entire table."
   ]
  },
  {
   "cell_type": "code",
   "execution_count": 31,
   "metadata": {},
   "outputs": [],
   "source": [
    "df_leatherdistrict = df.loc[df['neighbourhood_cleansed'] == 'Leather District']\n",
    "df_southbostonwaterfront = df.loc[df['neighbourhood_cleansed'] == 'South Boston Waterfront']\n",
    "df_downtown = df.loc[df['neighbourhood_cleansed'] == 'Downtown']"
   ]
  },
  {
   "cell_type": "code",
   "execution_count": 32,
   "metadata": {},
   "outputs": [
    {
     "data": {
      "image/png": "[encoded data removed]",
      "text/plain": [
       "<Figure size 432x288 with 1 Axes>"
      ]
     },
     "metadata": {
      "needs_background": "light"
     },
     "output_type": "display_data"
    }
   ],
   "source": [
    "df_leatherdistrict.boxplot(column=['price']);\n",
    "plt.title('Leather District Listing Prices');\n",
    "plt.xlabel('Leather District');\n",
    "plt.ylabel('Price');"
   ]
  },
  {
   "cell_type": "code",
   "execution_count": 33,
   "metadata": {},
   "outputs": [
    {
     "data": {
      "image/png": "[encoded data removed]",
      "text/plain": [
       "<Figure size 432x288 with 1 Axes>"
      ]
     },
     "metadata": {
      "needs_background": "light"
     },
     "output_type": "display_data"
    }
   ],
   "source": [
    "df_southbostonwaterfront.boxplot(column=['price']);\n",
    "plt.title('South Boston Waterfront Listing Prices');\n",
    "plt.xlabel('South Boston Waterfront');\n",
    "plt.ylabel('Price');"
   ]
  },
  {
   "cell_type": "code",
   "execution_count": 34,
   "metadata": {},
   "outputs": [
    {
     "data": {
      "image/png": "[encoded data removed]",
      "text/plain": [
       "<Figure size 432x288 with 1 Axes>"
      ]
     },
     "metadata": {
      "needs_background": "light"
     },
     "output_type": "display_data"
    }
   ],
   "source": [
    "df_downtown.boxplot(column=['price']);\n",
    "plt.title('Downtown Listing Prices');\n",
    "plt.xlabel('Downtown');\n",
    "plt.ylabel('Price');"
   ]
  },
  {
   "cell_type": "markdown",
   "metadata": {},
   "source": [
    "### Question 2: Which variables have the strongest relationship with listing price?\n",
    "To answer this question, the correlation matrix from the dataframe is calculated.  High correlation coefficients in this matrix indicate there is a strong relationship between two of the variables."
   ]
  },
  {
   "cell_type": "code",
   "execution_count": 35,
   "metadata": {},
   "outputs": [
    {
     "data": {
      "text/plain": [
       "price                                  1.000000\n",
       "accommodates                           0.437756\n",
       "bedrooms                               0.385298\n",
       "beds                                   0.370013\n",
       "bathrooms                              0.248234\n",
       "space                                  0.168938\n",
       "cancellation_policy_super_strict_30    0.157840\n",
       "bed_type_Real Bed                      0.113027\n",
       "review_scores_rating                   0.105651\n",
       "property_type_Apartment                0.088830\n",
       "cancellation_policy_strict             0.085654\n",
       "description                            0.073479\n",
       "host_since                             0.062723\n",
       "neighborhood_overview                  0.057819\n",
       "property_type_Condominium              0.028880\n",
       "minimum_nights                         0.020054\n",
       "property_type_Other                   -0.008489\n",
       "summary                               -0.018801\n",
       "bed_type_Couch                        -0.026505\n",
       "cancellation_policy_moderate          -0.044756\n",
       "bed_type_Pull-out Sofa                -0.045537\n",
       "bed_type_Airbed                       -0.068221\n",
       "bed_type_Futon                        -0.071823\n",
       "number_of_reviews                     -0.096427\n",
       "cancellation_policy_flexible          -0.104841\n",
       "property_type_House                   -0.123051\n",
       "reviews_per_month                     -0.157016\n",
       "Name: price, dtype: float64"
      ]
     },
     "execution_count": 35,
     "metadata": {},
     "output_type": "execute_result"
    }
   ],
   "source": [
    "df_corr = abs(df.corr())\n",
    "df_corr = df.corr()\n",
    "z = df_corr.sort_values(by=['price'], ascending=False)['price']\n",
    "z"
   ]
  },
  {
   "cell_type": "code",
   "execution_count": 36,
   "metadata": {},
   "outputs": [
    {
     "data": {
      "text/plain": [
       "(27,)"
      ]
     },
     "execution_count": 36,
     "metadata": {},
     "output_type": "execute_result"
    }
   ],
   "source": [
    "z.shape"
   ]
  },
  {
   "cell_type": "markdown",
   "metadata": {},
   "source": [
    "From the magnitude of the correlation coefficients above, parameters such as the number of people accommodated, the number of bedrooms, beds, and bathrooms had the highest values.  Since these correlation coefficients had positive correlation values between 0.24 and 0.44, a weak to moderate positive coorelation can be expected between them and price."
   ]
  },
  {
   "cell_type": "code",
   "execution_count": 37,
   "metadata": {},
   "outputs": [
    {
     "data": {
      "image/png": "[encoded data removed]",
      "text/plain": [
       "<Figure size 432x288 with 2 Axes>"
      ]
     },
     "metadata": {
      "needs_background": "light"
     },
     "output_type": "display_data"
    }
   ],
   "source": [
    "sns.heatmap(df[list(z.index)[0:10]].corr(), annot=True, fmt=\".2f\");"
   ]
  },
  {
   "cell_type": "markdown",
   "metadata": {},
   "source": [
    "### Question 3: Evaluate the effectiveness of regression for predicting listing price.\n",
    "To answer this question, a linear regression is taken with price as the dependent variable and all other parameters as independent variables.  The R2 will be used to test the strength of the linear relationship.  To simplify the analysis, rows with NaNs will be dropped.  "
   ]
  },
  {
   "cell_type": "code",
   "execution_count": 38,
   "metadata": {},
   "outputs": [
    {
     "data": {
      "text/html": [
       "<div>\n",
       "<style scoped>\n",
       "    .dataframe tbody tr th:only-of-type {\n",
       "        vertical-align: middle;\n",
       "    }\n",
       "\n",
       "    .dataframe tbody tr th {\n",
       "        vertical-align: top;\n",
       "    }\n",
       "\n",
       "    .dataframe thead th {\n",
       "        text-align: right;\n",
       "    }\n",
       "</style>\n",
       "<table border=\"1\" class=\"dataframe\">\n",
       "  <thead>\n",
       "    <tr style=\"text-align: right;\">\n",
       "      <th></th>\n",
       "      <th>price</th>\n",
       "      <th>summary</th>\n",
       "      <th>space</th>\n",
       "      <th>description</th>\n",
       "      <th>neighborhood_overview</th>\n",
       "      <th>host_since</th>\n",
       "      <th>accommodates</th>\n",
       "      <th>bathrooms</th>\n",
       "      <th>bedrooms</th>\n",
       "      <th>beds</th>\n",
       "      <th>...</th>\n",
       "      <th>property_type_Other</th>\n",
       "      <th>bed_type_Airbed</th>\n",
       "      <th>bed_type_Couch</th>\n",
       "      <th>bed_type_Futon</th>\n",
       "      <th>bed_type_Pull-out Sofa</th>\n",
       "      <th>bed_type_Real Bed</th>\n",
       "      <th>cancellation_policy_flexible</th>\n",
       "      <th>cancellation_policy_moderate</th>\n",
       "      <th>cancellation_policy_strict</th>\n",
       "      <th>cancellation_policy_super_strict_30</th>\n",
       "    </tr>\n",
       "  </thead>\n",
       "  <tbody>\n",
       "    <tr>\n",
       "      <td>0</td>\n",
       "      <td>250.0</td>\n",
       "      <td>249</td>\n",
       "      <td>481</td>\n",
       "      <td>1000</td>\n",
       "      <td>397</td>\n",
       "      <td>510</td>\n",
       "      <td>4</td>\n",
       "      <td>1.5</td>\n",
       "      <td>2.0</td>\n",
       "      <td>3.0</td>\n",
       "      <td>...</td>\n",
       "      <td>0</td>\n",
       "      <td>0</td>\n",
       "      <td>0</td>\n",
       "      <td>0</td>\n",
       "      <td>0</td>\n",
       "      <td>1</td>\n",
       "      <td>0</td>\n",
       "      <td>1</td>\n",
       "      <td>0</td>\n",
       "      <td>0</td>\n",
       "    </tr>\n",
       "    <tr>\n",
       "      <td>1</td>\n",
       "      <td>65.0</td>\n",
       "      <td>247</td>\n",
       "      <td>73</td>\n",
       "      <td>1000</td>\n",
       "      <td>355</td>\n",
       "      <td>1552</td>\n",
       "      <td>2</td>\n",
       "      <td>1.0</td>\n",
       "      <td>1.0</td>\n",
       "      <td>1.0</td>\n",
       "      <td>...</td>\n",
       "      <td>0</td>\n",
       "      <td>0</td>\n",
       "      <td>0</td>\n",
       "      <td>0</td>\n",
       "      <td>0</td>\n",
       "      <td>1</td>\n",
       "      <td>0</td>\n",
       "      <td>1</td>\n",
       "      <td>0</td>\n",
       "      <td>0</td>\n",
       "    </tr>\n",
       "    <tr>\n",
       "      <td>2</td>\n",
       "      <td>65.0</td>\n",
       "      <td>244</td>\n",
       "      <td>1000</td>\n",
       "      <td>1000</td>\n",
       "      <td>953</td>\n",
       "      <td>2675</td>\n",
       "      <td>2</td>\n",
       "      <td>1.0</td>\n",
       "      <td>1.0</td>\n",
       "      <td>1.0</td>\n",
       "      <td>...</td>\n",
       "      <td>0</td>\n",
       "      <td>0</td>\n",
       "      <td>0</td>\n",
       "      <td>0</td>\n",
       "      <td>0</td>\n",
       "      <td>1</td>\n",
       "      <td>0</td>\n",
       "      <td>1</td>\n",
       "      <td>0</td>\n",
       "      <td>0</td>\n",
       "    </tr>\n",
       "    <tr>\n",
       "      <td>3</td>\n",
       "      <td>75.0</td>\n",
       "      <td>493</td>\n",
       "      <td>631</td>\n",
       "      <td>1000</td>\n",
       "      <td>1000</td>\n",
       "      <td>1234</td>\n",
       "      <td>4</td>\n",
       "      <td>1.0</td>\n",
       "      <td>1.0</td>\n",
       "      <td>2.0</td>\n",
       "      <td>...</td>\n",
       "      <td>0</td>\n",
       "      <td>0</td>\n",
       "      <td>0</td>\n",
       "      <td>0</td>\n",
       "      <td>0</td>\n",
       "      <td>1</td>\n",
       "      <td>0</td>\n",
       "      <td>1</td>\n",
       "      <td>0</td>\n",
       "      <td>0</td>\n",
       "    </tr>\n",
       "    <tr>\n",
       "      <td>4</td>\n",
       "      <td>79.0</td>\n",
       "      <td>245</td>\n",
       "      <td>248</td>\n",
       "      <td>1000</td>\n",
       "      <td>720</td>\n",
       "      <td>849</td>\n",
       "      <td>2</td>\n",
       "      <td>1.5</td>\n",
       "      <td>1.0</td>\n",
       "      <td>2.0</td>\n",
       "      <td>...</td>\n",
       "      <td>0</td>\n",
       "      <td>0</td>\n",
       "      <td>0</td>\n",
       "      <td>0</td>\n",
       "      <td>0</td>\n",
       "      <td>1</td>\n",
       "      <td>1</td>\n",
       "      <td>0</td>\n",
       "      <td>0</td>\n",
       "      <td>0</td>\n",
       "    </tr>\n",
       "    <tr>\n",
       "      <td>...</td>\n",
       "      <td>...</td>\n",
       "      <td>...</td>\n",
       "      <td>...</td>\n",
       "      <td>...</td>\n",
       "      <td>...</td>\n",
       "      <td>...</td>\n",
       "      <td>...</td>\n",
       "      <td>...</td>\n",
       "      <td>...</td>\n",
       "      <td>...</td>\n",
       "      <td>...</td>\n",
       "      <td>...</td>\n",
       "      <td>...</td>\n",
       "      <td>...</td>\n",
       "      <td>...</td>\n",
       "      <td>...</td>\n",
       "      <td>...</td>\n",
       "      <td>...</td>\n",
       "      <td>...</td>\n",
       "      <td>...</td>\n",
       "      <td>...</td>\n",
       "    </tr>\n",
       "    <tr>\n",
       "      <td>3580</td>\n",
       "      <td>69.0</td>\n",
       "      <td>242</td>\n",
       "      <td>1</td>\n",
       "      <td>242</td>\n",
       "      <td>1</td>\n",
       "      <td>768</td>\n",
       "      <td>3</td>\n",
       "      <td>1.0</td>\n",
       "      <td>1.0</td>\n",
       "      <td>1.0</td>\n",
       "      <td>...</td>\n",
       "      <td>0</td>\n",
       "      <td>0</td>\n",
       "      <td>0</td>\n",
       "      <td>0</td>\n",
       "      <td>0</td>\n",
       "      <td>1</td>\n",
       "      <td>0</td>\n",
       "      <td>0</td>\n",
       "      <td>1</td>\n",
       "      <td>0</td>\n",
       "    </tr>\n",
       "    <tr>\n",
       "      <td>3581</td>\n",
       "      <td>150.0</td>\n",
       "      <td>171</td>\n",
       "      <td>19</td>\n",
       "      <td>249</td>\n",
       "      <td>1</td>\n",
       "      <td>432</td>\n",
       "      <td>2</td>\n",
       "      <td>1.0</td>\n",
       "      <td>1.0</td>\n",
       "      <td>1.0</td>\n",
       "      <td>...</td>\n",
       "      <td>0</td>\n",
       "      <td>0</td>\n",
       "      <td>0</td>\n",
       "      <td>0</td>\n",
       "      <td>0</td>\n",
       "      <td>1</td>\n",
       "      <td>0</td>\n",
       "      <td>0</td>\n",
       "      <td>1</td>\n",
       "      <td>0</td>\n",
       "    </tr>\n",
       "    <tr>\n",
       "      <td>3582</td>\n",
       "      <td>198.0</td>\n",
       "      <td>156</td>\n",
       "      <td>132</td>\n",
       "      <td>658</td>\n",
       "      <td>112</td>\n",
       "      <td>966</td>\n",
       "      <td>4</td>\n",
       "      <td>1.0</td>\n",
       "      <td>1.0</td>\n",
       "      <td>1.0</td>\n",
       "      <td>...</td>\n",
       "      <td>0</td>\n",
       "      <td>0</td>\n",
       "      <td>0</td>\n",
       "      <td>0</td>\n",
       "      <td>0</td>\n",
       "      <td>1</td>\n",
       "      <td>1</td>\n",
       "      <td>0</td>\n",
       "      <td>0</td>\n",
       "      <td>0</td>\n",
       "    </tr>\n",
       "    <tr>\n",
       "      <td>3583</td>\n",
       "      <td>65.0</td>\n",
       "      <td>319</td>\n",
       "      <td>1</td>\n",
       "      <td>319</td>\n",
       "      <td>1</td>\n",
       "      <td>102</td>\n",
       "      <td>2</td>\n",
       "      <td>1.0</td>\n",
       "      <td>1.0</td>\n",
       "      <td>1.0</td>\n",
       "      <td>...</td>\n",
       "      <td>0</td>\n",
       "      <td>0</td>\n",
       "      <td>0</td>\n",
       "      <td>0</td>\n",
       "      <td>0</td>\n",
       "      <td>1</td>\n",
       "      <td>0</td>\n",
       "      <td>0</td>\n",
       "      <td>1</td>\n",
       "      <td>0</td>\n",
       "    </tr>\n",
       "    <tr>\n",
       "      <td>3584</td>\n",
       "      <td>65.0</td>\n",
       "      <td>458</td>\n",
       "      <td>945</td>\n",
       "      <td>1000</td>\n",
       "      <td>1</td>\n",
       "      <td>383</td>\n",
       "      <td>2</td>\n",
       "      <td>1.0</td>\n",
       "      <td>1.0</td>\n",
       "      <td>1.0</td>\n",
       "      <td>...</td>\n",
       "      <td>0</td>\n",
       "      <td>0</td>\n",
       "      <td>0</td>\n",
       "      <td>0</td>\n",
       "      <td>0</td>\n",
       "      <td>1</td>\n",
       "      <td>1</td>\n",
       "      <td>0</td>\n",
       "      <td>0</td>\n",
       "      <td>0</td>\n",
       "    </tr>\n",
       "  </tbody>\n",
       "</table>\n",
       "<p>3585 rows × 28 columns</p>\n",
       "</div>"
      ],
      "text/plain": [
       "      price  summary  space  description  neighborhood_overview  host_since  \\\n",
       "0     250.0      249    481         1000                    397         510   \n",
       "1      65.0      247     73         1000                    355        1552   \n",
       "2      65.0      244   1000         1000                    953        2675   \n",
       "3      75.0      493    631         1000                   1000        1234   \n",
       "4      79.0      245    248         1000                    720         849   \n",
       "...     ...      ...    ...          ...                    ...         ...   \n",
       "3580   69.0      242      1          242                      1         768   \n",
       "3581  150.0      171     19          249                      1         432   \n",
       "3582  198.0      156    132          658                    112         966   \n",
       "3583   65.0      319      1          319                      1         102   \n",
       "3584   65.0      458    945         1000                      1         383   \n",
       "\n",
       "      accommodates  bathrooms  bedrooms  beds  ...  property_type_Other  \\\n",
       "0                4        1.5       2.0   3.0  ...                    0   \n",
       "1                2        1.0       1.0   1.0  ...                    0   \n",
       "2                2        1.0       1.0   1.0  ...                    0   \n",
       "3                4        1.0       1.0   2.0  ...                    0   \n",
       "4                2        1.5       1.0   2.0  ...                    0   \n",
       "...            ...        ...       ...   ...  ...                  ...   \n",
       "3580             3        1.0       1.0   1.0  ...                    0   \n",
       "3581             2        1.0       1.0   1.0  ...                    0   \n",
       "3582             4        1.0       1.0   1.0  ...                    0   \n",
       "3583             2        1.0       1.0   1.0  ...                    0   \n",
       "3584             2        1.0       1.0   1.0  ...                    0   \n",
       "\n",
       "      bed_type_Airbed  bed_type_Couch  bed_type_Futon bed_type_Pull-out Sofa  \\\n",
       "0                   0               0               0                      0   \n",
       "1                   0               0               0                      0   \n",
       "2                   0               0               0                      0   \n",
       "3                   0               0               0                      0   \n",
       "4                   0               0               0                      0   \n",
       "...               ...             ...             ...                    ...   \n",
       "3580                0               0               0                      0   \n",
       "3581                0               0               0                      0   \n",
       "3582                0               0               0                      0   \n",
       "3583                0               0               0                      0   \n",
       "3584                0               0               0                      0   \n",
       "\n",
       "      bed_type_Real Bed  cancellation_policy_flexible  \\\n",
       "0                     1                             0   \n",
       "1                     1                             0   \n",
       "2                     1                             0   \n",
       "3                     1                             0   \n",
       "4                     1                             1   \n",
       "...                 ...                           ...   \n",
       "3580                  1                             0   \n",
       "3581                  1                             0   \n",
       "3582                  1                             1   \n",
       "3583                  1                             0   \n",
       "3584                  1                             1   \n",
       "\n",
       "      cancellation_policy_moderate  cancellation_policy_strict  \\\n",
       "0                                1                           0   \n",
       "1                                1                           0   \n",
       "2                                1                           0   \n",
       "3                                1                           0   \n",
       "4                                0                           0   \n",
       "...                            ...                         ...   \n",
       "3580                             0                           1   \n",
       "3581                             0                           1   \n",
       "3582                             0                           0   \n",
       "3583                             0                           1   \n",
       "3584                             0                           0   \n",
       "\n",
       "      cancellation_policy_super_strict_30  \n",
       "0                                       0  \n",
       "1                                       0  \n",
       "2                                       0  \n",
       "3                                       0  \n",
       "4                                       0  \n",
       "...                                   ...  \n",
       "3580                                    0  \n",
       "3581                                    0  \n",
       "3582                                    0  \n",
       "3583                                    0  \n",
       "3584                                    0  \n",
       "\n",
       "[3585 rows x 28 columns]"
      ]
     },
     "execution_count": 38,
     "metadata": {},
     "output_type": "execute_result"
    }
   ],
   "source": [
    "df"
   ]
  },
  {
   "cell_type": "code",
   "execution_count": 39,
   "metadata": {},
   "outputs": [],
   "source": [
    "df = df.dropna(axis=0)"
   ]
  },
  {
   "cell_type": "code",
   "execution_count": 40,
   "metadata": {},
   "outputs": [],
   "source": [
    "#Split into explanatory and response variables\n",
    "X = df.drop(['price', 'neighbourhood_cleansed'], axis=1)\n",
    "#X = df.drop(['price'], axis=1)\n",
    "\n",
    "y = df['price']\n",
    "\n",
    "test_size = 0.3\n",
    "rand_state = 4\n",
    "\n",
    "#Split into train and test\n",
    "X_train, X_test, y_train, y_test = train_test_split(X, y, test_size=test_size, random_state=rand_state)\n",
    "\n",
    "lm_model = LinearRegression(normalize=True) # Instantiate\n",
    "lm_model.fit(X_train, y_train) #Fit\n",
    "\n",
    "#Predict using your model\n",
    "y_test_preds = lm_model.predict(X_test)\n",
    "y_train_preds = lm_model.predict(X_train)\n",
    "\n",
    "#Score using your model\n",
    "test_score = r2_score(y_test, y_test_preds)\n",
    "train_score = r2_score(y_train, y_train_preds)"
   ]
  },
  {
   "cell_type": "code",
   "execution_count": 41,
   "metadata": {},
   "outputs": [
    {
     "name": "stdout",
     "output_type": "stream",
     "text": [
      "Test Score:  0.48067085613724403\n",
      "Train Score:  0.48311205726444506\n"
     ]
    }
   ],
   "source": [
    "print('Test Score: ', test_score)\n",
    "print('Train Score: ', train_score)"
   ]
  },
  {
   "cell_type": "markdown",
   "metadata": {},
   "source": [
    "Based on the R2 values for the test and train sets, only about 48% of the variation in a listing's price can be explained by the parameters that were selected in this analysis.  Overfitting is not a concern as the test and train scores are close to each other."
   ]
  }
 ],
 "metadata": {
  "kernelspec": {
   "display_name": "Python 3",
   "language": "python",
   "name": "python3"
  },
  "language_info": {
   "codemirror_mode": {
    "name": "ipython",
    "version": 3
   },
   "file_extension": ".py",
   "mimetype": "text/x-python",
   "name": "python",
   "nbconvert_exporter": "python",
   "pygments_lexer": "ipython3",
   "version": "3.7.4"
  }
 },
 "nbformat": 4,
 "nbformat_minor": 2
}
